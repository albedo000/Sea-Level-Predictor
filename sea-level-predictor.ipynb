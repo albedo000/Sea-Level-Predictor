{
 "cells": [
  {
   "cell_type": "code",
   "execution_count": 3,
   "id": "1f62f634",
   "metadata": {
    "_cell_guid": "b1076dfc-b9ad-4769-8c92-a6c4dae69d19",
    "_uuid": "8f2839f25d086af736a60e9eeb907d3b93b6e0e5",
    "execution": {
     "iopub.execute_input": "2022-03-17T18:01:26.662037Z",
     "iopub.status.busy": "2022-03-17T18:01:26.660812Z",
     "iopub.status.idle": "2022-03-17T18:01:27.686055Z",
     "shell.execute_reply": "2022-03-17T18:01:27.685223Z",
     "shell.execute_reply.started": "2022-03-17T14:12:39.405625Z"
    },
    "papermill": {
     "duration": 1.040313,
     "end_time": "2022-03-17T18:01:27.686248",
     "exception": false,
     "start_time": "2022-03-17T18:01:26.645935",
     "status": "completed"
    },
    "tags": []
   },
   "outputs": [],
   "source": [
    "import numpy as np\n",
    "import pandas as pd\n",
    "import matplotlib.pyplot as plt\n",
    "from scipy.stats import linregress"
   ]
  },
  {
   "cell_type": "markdown",
   "id": "afe7d056",
   "metadata": {
    "papermill": {
     "duration": 0.010718,
     "end_time": "2022-03-17T18:01:27.708855",
     "exception": false,
     "start_time": "2022-03-17T18:01:27.698137",
     "status": "completed"
    },
    "tags": []
   },
   "source": [
    "* Load CSV file on Pandas."
   ]
  },
  {
   "cell_type": "code",
   "execution_count": 4,
   "id": "2ba2f343",
   "metadata": {
    "execution": {
     "iopub.execute_input": "2022-03-17T18:01:27.735655Z",
     "iopub.status.busy": "2022-03-17T18:01:27.734938Z",
     "iopub.status.idle": "2022-03-17T18:01:27.761776Z",
     "shell.execute_reply": "2022-03-17T18:01:27.762312Z",
     "shell.execute_reply.started": "2022-03-17T14:12:40.222792Z"
    },
    "papermill": {
     "duration": 0.042845,
     "end_time": "2022-03-17T18:01:27.762486",
     "exception": false,
     "start_time": "2022-03-17T18:01:27.719641",
     "status": "completed"
    },
    "tags": []
   },
   "outputs": [
    {
     "data": {
      "text/html": [
       "<div>\n",
       "<style scoped>\n",
       "    .dataframe tbody tr th:only-of-type {\n",
       "        vertical-align: middle;\n",
       "    }\n",
       "\n",
       "    .dataframe tbody tr th {\n",
       "        vertical-align: top;\n",
       "    }\n",
       "\n",
       "    .dataframe thead th {\n",
       "        text-align: right;\n",
       "    }\n",
       "</style>\n",
       "<table border=\"1\" class=\"dataframe\">\n",
       "  <thead>\n",
       "    <tr style=\"text-align: right;\">\n",
       "      <th></th>\n",
       "      <th>Year</th>\n",
       "      <th>CSIRO Adjusted Sea Level</th>\n",
       "      <th>Lower Error Bound</th>\n",
       "      <th>Upper Error Bound</th>\n",
       "      <th>NOAA Adjusted Sea Level</th>\n",
       "    </tr>\n",
       "  </thead>\n",
       "  <tbody>\n",
       "    <tr>\n",
       "      <th>0</th>\n",
       "      <td>1880</td>\n",
       "      <td>0.000000</td>\n",
       "      <td>-0.952756</td>\n",
       "      <td>0.952756</td>\n",
       "      <td>NaN</td>\n",
       "    </tr>\n",
       "    <tr>\n",
       "      <th>1</th>\n",
       "      <td>1881</td>\n",
       "      <td>0.220472</td>\n",
       "      <td>-0.732283</td>\n",
       "      <td>1.173228</td>\n",
       "      <td>NaN</td>\n",
       "    </tr>\n",
       "    <tr>\n",
       "      <th>2</th>\n",
       "      <td>1882</td>\n",
       "      <td>-0.440945</td>\n",
       "      <td>-1.346457</td>\n",
       "      <td>0.464567</td>\n",
       "      <td>NaN</td>\n",
       "    </tr>\n",
       "    <tr>\n",
       "      <th>3</th>\n",
       "      <td>1883</td>\n",
       "      <td>-0.232283</td>\n",
       "      <td>-1.129921</td>\n",
       "      <td>0.665354</td>\n",
       "      <td>NaN</td>\n",
       "    </tr>\n",
       "    <tr>\n",
       "      <th>4</th>\n",
       "      <td>1884</td>\n",
       "      <td>0.590551</td>\n",
       "      <td>-0.283465</td>\n",
       "      <td>1.464567</td>\n",
       "      <td>NaN</td>\n",
       "    </tr>\n",
       "  </tbody>\n",
       "</table>\n",
       "</div>"
      ],
      "text/plain": [
       "   Year  CSIRO Adjusted Sea Level  Lower Error Bound  Upper Error Bound  \\\n",
       "0  1880                  0.000000          -0.952756           0.952756   \n",
       "1  1881                  0.220472          -0.732283           1.173228   \n",
       "2  1882                 -0.440945          -1.346457           0.464567   \n",
       "3  1883                 -0.232283          -1.129921           0.665354   \n",
       "4  1884                  0.590551          -0.283465           1.464567   \n",
       "\n",
       "   NOAA Adjusted Sea Level  \n",
       "0                      NaN  \n",
       "1                      NaN  \n",
       "2                      NaN  \n",
       "3                      NaN  \n",
       "4                      NaN  "
      ]
     },
     "execution_count": 4,
     "metadata": {},
     "output_type": "execute_result"
    }
   ],
   "source": [
    "df = pd.read_csv(\"D:\\Progetti\\Sea Level Predictor\\epa-sea-level.csv\")\n",
    "df.head()"
   ]
  },
  {
   "cell_type": "markdown",
   "id": "d6e41cfe",
   "metadata": {
    "papermill": {
     "duration": 0.011638,
     "end_time": "2022-03-17T18:01:27.785483",
     "exception": false,
     "start_time": "2022-03-17T18:01:27.773845",
     "status": "completed"
    },
    "tags": []
   },
   "source": [
    "* Create a second dataset. Only measures in new millenium are mantained."
   ]
  },
  {
   "cell_type": "code",
   "execution_count": 5,
   "id": "723bcf69",
   "metadata": {
    "execution": {
     "iopub.execute_input": "2022-03-17T18:01:27.812911Z",
     "iopub.status.busy": "2022-03-17T18:01:27.811924Z",
     "iopub.status.idle": "2022-03-17T18:01:27.832016Z",
     "shell.execute_reply": "2022-03-17T18:01:27.832559Z",
     "shell.execute_reply.started": "2022-03-17T14:16:18.81828Z"
    },
    "papermill": {
     "duration": 0.035487,
     "end_time": "2022-03-17T18:01:27.832731",
     "exception": false,
     "start_time": "2022-03-17T18:01:27.797244",
     "status": "completed"
    },
    "tags": []
   },
   "outputs": [
    {
     "data": {
      "text/html": [
       "<div>\n",
       "<style scoped>\n",
       "    .dataframe tbody tr th:only-of-type {\n",
       "        vertical-align: middle;\n",
       "    }\n",
       "\n",
       "    .dataframe tbody tr th {\n",
       "        vertical-align: top;\n",
       "    }\n",
       "\n",
       "    .dataframe thead th {\n",
       "        text-align: right;\n",
       "    }\n",
       "</style>\n",
       "<table border=\"1\" class=\"dataframe\">\n",
       "  <thead>\n",
       "    <tr style=\"text-align: right;\">\n",
       "      <th></th>\n",
       "      <th>Year</th>\n",
       "      <th>CSIRO Adjusted Sea Level</th>\n",
       "      <th>Lower Error Bound</th>\n",
       "      <th>Upper Error Bound</th>\n",
       "      <th>NOAA Adjusted Sea Level</th>\n",
       "    </tr>\n",
       "  </thead>\n",
       "  <tbody>\n",
       "    <tr>\n",
       "      <th>120</th>\n",
       "      <td>2000</td>\n",
       "      <td>7.062992</td>\n",
       "      <td>6.791339</td>\n",
       "      <td>7.334646</td>\n",
       "      <td>6.920582</td>\n",
       "    </tr>\n",
       "    <tr>\n",
       "      <th>121</th>\n",
       "      <td>2001</td>\n",
       "      <td>7.287402</td>\n",
       "      <td>7.019685</td>\n",
       "      <td>7.555118</td>\n",
       "      <td>7.087460</td>\n",
       "    </tr>\n",
       "    <tr>\n",
       "      <th>122</th>\n",
       "      <td>2002</td>\n",
       "      <td>7.381890</td>\n",
       "      <td>7.110236</td>\n",
       "      <td>7.653543</td>\n",
       "      <td>7.319698</td>\n",
       "    </tr>\n",
       "    <tr>\n",
       "      <th>123</th>\n",
       "      <td>2003</td>\n",
       "      <td>7.759843</td>\n",
       "      <td>7.484252</td>\n",
       "      <td>8.035433</td>\n",
       "      <td>7.488353</td>\n",
       "    </tr>\n",
       "    <tr>\n",
       "      <th>124</th>\n",
       "      <td>2004</td>\n",
       "      <td>7.740157</td>\n",
       "      <td>7.464567</td>\n",
       "      <td>8.015748</td>\n",
       "      <td>7.507933</td>\n",
       "    </tr>\n",
       "  </tbody>\n",
       "</table>\n",
       "</div>"
      ],
      "text/plain": [
       "     Year  CSIRO Adjusted Sea Level  Lower Error Bound  Upper Error Bound  \\\n",
       "120  2000                  7.062992           6.791339           7.334646   \n",
       "121  2001                  7.287402           7.019685           7.555118   \n",
       "122  2002                  7.381890           7.110236           7.653543   \n",
       "123  2003                  7.759843           7.484252           8.035433   \n",
       "124  2004                  7.740157           7.464567           8.015748   \n",
       "\n",
       "     NOAA Adjusted Sea Level  \n",
       "120                 6.920582  \n",
       "121                 7.087460  \n",
       "122                 7.319698  \n",
       "123                 7.488353  \n",
       "124                 7.507933  "
      ]
     },
     "execution_count": 5,
     "metadata": {},
     "output_type": "execute_result"
    }
   ],
   "source": [
    "df_2 = df.apply(lambda x: x[df.Year >1999])\n",
    "df_2.head()"
   ]
  },
  {
   "cell_type": "markdown",
   "id": "e84e05ab",
   "metadata": {
    "papermill": {
     "duration": 0.01157,
     "end_time": "2022-03-17T18:01:27.856178",
     "exception": false,
     "start_time": "2022-03-17T18:01:27.844608",
     "status": "completed"
    },
    "tags": []
   },
   "source": [
    "* Define x and y axis."
   ]
  },
  {
   "cell_type": "code",
   "execution_count": 6,
   "id": "94bcf631",
   "metadata": {
    "execution": {
     "iopub.execute_input": "2022-03-17T18:01:27.884521Z",
     "iopub.status.busy": "2022-03-17T18:01:27.883542Z",
     "iopub.status.idle": "2022-03-17T18:01:27.887247Z",
     "shell.execute_reply": "2022-03-17T18:01:27.887803Z",
     "shell.execute_reply.started": "2022-03-17T14:12:40.2773Z"
    },
    "papermill": {
     "duration": 0.020162,
     "end_time": "2022-03-17T18:01:27.887988",
     "exception": false,
     "start_time": "2022-03-17T18:01:27.867826",
     "status": "completed"
    },
    "tags": []
   },
   "outputs": [],
   "source": [
    "X = 'Year'\n",
    "Y = 'CSIRO Adjusted Sea Level'"
   ]
  },
  {
   "cell_type": "markdown",
   "id": "315b4ac3",
   "metadata": {
    "papermill": {
     "duration": 0.012346,
     "end_time": "2022-03-17T18:01:27.912273",
     "exception": false,
     "start_time": "2022-03-17T18:01:27.899927",
     "status": "completed"
    },
    "tags": []
   },
   "source": [
    "* Define linear regression for first and second database."
   ]
  },
  {
   "cell_type": "code",
   "execution_count": 7,
   "id": "4a78c27b",
   "metadata": {
    "execution": {
     "iopub.execute_input": "2022-03-17T18:01:27.942199Z",
     "iopub.status.busy": "2022-03-17T18:01:27.941409Z",
     "iopub.status.idle": "2022-03-17T18:01:27.948844Z",
     "shell.execute_reply": "2022-03-17T18:01:27.949397Z",
     "shell.execute_reply.started": "2022-03-17T14:12:40.284078Z"
    },
    "papermill": {
     "duration": 0.024989,
     "end_time": "2022-03-17T18:01:27.949574",
     "exception": false,
     "start_time": "2022-03-17T18:01:27.924585",
     "status": "completed"
    },
    "tags": []
   },
   "outputs": [],
   "source": [
    "res = linregress(x=df[X], y=df[Y])\n",
    "res2 = linregress(x=df_2[X], y=df_2[Y])"
   ]
  },
  {
   "cell_type": "markdown",
   "id": "12b55960",
   "metadata": {
    "papermill": {
     "duration": 0.011418,
     "end_time": "2022-03-17T18:01:27.972817",
     "exception": false,
     "start_time": "2022-03-17T18:01:27.961399",
     "status": "completed"
    },
    "tags": []
   },
   "source": [
    "* Plot lines over scatterplot where relationship between time and sea level are evaluated. "
   ]
  },
  {
   "cell_type": "code",
   "execution_count": 8,
   "id": "70f9379b",
   "metadata": {
    "execution": {
     "iopub.execute_input": "2022-03-17T18:01:28.000579Z",
     "iopub.status.busy": "2022-03-17T18:01:27.999592Z",
     "iopub.status.idle": "2022-03-17T18:01:28.339737Z",
     "shell.execute_reply": "2022-03-17T18:01:28.340249Z",
     "shell.execute_reply.started": "2022-03-17T14:23:31.095089Z"
    },
    "papermill": {
     "duration": 0.355333,
     "end_time": "2022-03-17T18:01:28.340424",
     "exception": false,
     "start_time": "2022-03-17T18:01:27.985091",
     "status": "completed"
    },
    "tags": []
   },
   "outputs": [
    {
     "data": {
      "text/plain": [
       "Text(0, 0.5, 'Rise in Sea Level')"
      ]
     },
     "execution_count": 8,
     "metadata": {},
     "output_type": "execute_result"
    },
    {
     "data": {
      "image/png": "[encoded data removed]",
      "text/plain": [
       "<Figure size 720x720 with 1 Axes>"
      ]
     },
     "metadata": {
      "needs_background": "light"
     },
     "output_type": "display_data"
    }
   ],
   "source": [
    "fig, ax = plt.subplots(figsize=(10,10))\n",
    "ax.scatter(x = X, y = Y, label= 'Rise in Sea Level', data = df)\n",
    "plt.xlim(1880,2050)\n",
    "dependent = np.arange(1880,2050)\n",
    "line1, = ax.plot(dependent, res.intercept + res.slope * dependent, label = 'Correlation line (1880-2013)')\n",
    "line2, = ax.plot(dependent, res2.intercept +res2.slope * dependent, label = 'Correlation line (2000-2013)')\n",
    "ax.legend(handles = [line1, line2])\n",
    "plt.title('Rise in Sea Level')\n",
    "plt.xlabel('Year')\n",
    "plt.ylabel('Rise in Sea Level')"
   ]
  }
 ],
 "metadata": {
  "kernelspec": {
   "display_name": "Python 3",
   "language": "python",
   "name": "python3"
  },
  "language_info": {
   "codemirror_mode": {
    "name": "ipython",
    "version": 3
   },
   "file_extension": ".py",
   "mimetype": "text/x-python",
   "name": "python",
   "nbconvert_exporter": "python",
   "pygments_lexer": "ipython3",
   "version": "3.10.4"
  },
  "papermill": {
   "default_parameters": {},
   "duration": 12.696233,
   "end_time": "2022-03-17T18:01:29.065695",
   "environment_variables": {},
   "exception": null,
   "input_path": "__notebook__.ipynb",
   "output_path": "__notebook__.ipynb",
   "parameters": {},
   "start_time": "2022-03-17T18:01:16.369462",
   "version": "2.3.3"
  }
 },
 "nbformat": 4,
 "nbformat_minor": 5
}
